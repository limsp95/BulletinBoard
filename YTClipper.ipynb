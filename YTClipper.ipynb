{
  "nbformat": 4,
  "nbformat_minor": 0,
  "metadata": {
    "colab": {
      "name": "YTClipper.ipynb",
      "provenance": [],
      "collapsed_sections": [],
      "toc_visible": true,
      "include_colab_link": true
    },
    "kernelspec": {
      "name": "python3",
      "display_name": "Python 3"
    },
    "accelerator": "GPU"
  },
  "cells": [
    {
      "cell_type": "markdown",
      "metadata": {
        "id": "view-in-github",
        "colab_type": "text"
      },
      "source": [
        "<a href=\"https://colab.research.google.com/github/limsp95/BulletinBoard/blob/master/YTClipper.ipynb\" target=\"_parent\"><img src=\"https://colab.research.google.com/assets/colab-badge.svg\" alt=\"Open In Colab\"/></a>"
      ]
    },
    {
      "cell_type": "markdown",
      "metadata": {
        "id": "DR5k-BzKVImW",
        "colab_type": "text"
      },
      "source": [
        "# kitsune's home-brewed YouTube clipping tool"
      ]
    },
    {
      "cell_type": "code",
      "metadata": {
        "id": "8kSLU60BSlmz",
        "colab_type": "code",
        "cellView": "both",
        "colab": {
          "base_uri": "https://localhost:8080/",
          "height": 1000
        },
        "outputId": "b00961e9-53bb-42f3-f070-d5a5071e7db7"
      },
      "source": [
        "import os, sys, datetime, shutil\n",
        "from google.colab import drive\n",
        "\n",
        "#@markdown ## Step 0\n",
        "#@markdown Check the box if you want to save the video to your Google Drive.\n",
        "mount_drive = False #@param {type: \"boolean\"}\n",
        "save_location = \"My Drive/portaldood.mp4\" #@param {type: \"string\"}\n",
        "absolute_drive_path = os.path.join(\"/content/drive\", save_location)\n",
        "if mount_drive:\n",
        "  drive.mount('/content/drive')\n",
        "\n",
        "#@markdown ## Step 1\n",
        "#@markdown Enter the video details\n",
        "youtube_url = \"https://www.youtube.com/watch?v=lGavtnb-dU4\" #@param {type:\"string\", text: \"adsf\"}\n",
        "clip_start_time = \"0:29:19\" #@param {type: \"string\"}\n",
        "clip_end_time = \"0:31:13\" #@param {type: \"string\"}\n",
        "\n",
        "#@markdown ## Step 2\n",
        "#@markdown Hit Ctrl+Enter or click the play button on the top left to start. If you chose to mount your Google Drive, there should be instructions on how to authorize it in the output below.\n",
        "#@markdown ## Step 3\n",
        "#@markdown Go have a tea break or something. It's gonna take a while to encode. When done, the file \"trimmed.mp4\" should appear in the files pane on the left. Right click and choose Download, or if you chose to save it to your Google Drive, it should appear there.\n",
        "#@markdown\n",
        "#@markdown Have fun!\n",
        "\n",
        "# https://stackoverflow.com/a/6402859\n",
        "def get_sec(time_str):\n",
        "    \"\"\"Get Seconds from time.\"\"\"\n",
        "    h, m, s = time_str.split(':')\n",
        "    return int(h) * 3600 + int(m) * 60 + int(s)\n",
        "\n",
        "clip_length_seconds = get_sec(clip_end_time) - get_sec(clip_start_time)\n",
        "\n",
        "if clip_length_seconds <= 0:\n",
        "  print(\"Clip length cannot be zero or negative\", file=sys.stderr)\n",
        "  sys.exit(1);\n",
        "\n",
        "clip_length = str(datetime.timedelta(seconds=clip_length_seconds))\n",
        "\n",
        "os.environ['YT_URL'] = youtube_url\n",
        "os.environ['START_TIME'] = clip_start_time\n",
        "os.environ['LENGTH'] = clip_length\n",
        "!pip install youtube-dl\n",
        "!youtube-dl \"$YT_URL\" --output rawvideo\n",
        "!ffmpeg -i \"$(ls rawvideo.*)\" -ss \"$START_TIME\" -t \"$LENGTH\" -c:v libx264 -c:a aac trimmed.mp4\n",
        "\n",
        "if mount_drive:\n",
        "  print(\"Copying file to Google Drive...\")\n",
        "  shutil.copy2(\"/content/trimmed.mp4\", absolute_drive_path)\n",
        "  print(\"File copied to Google Drive!\")\n",
        "\n",
        "print(\"\")\n",
        "print(\"All done!\")"
      ],
      "execution_count": null,
      "outputs": [
        {
          "output_type": "stream",
          "text": [
            "Collecting youtube-dl\n",
            "\u001b[?25l  Downloading https://files.pythonhosted.org/packages/a4/5f/db1fb30596fbfabd3500e741cd9c73d0cb1d25387582fd21289bed05a9c2/youtube_dl-2020.6.16.1-py2.py3-none-any.whl (1.8MB)\n",
            "\u001b[K     |████████████████████████████████| 1.8MB 3.2MB/s \n",
            "\u001b[?25hInstalling collected packages: youtube-dl\n",
            "Successfully installed youtube-dl-2020.6.16.1\n",
            "[youtube] lGavtnb-dU4: Downloading webpage\n",
            "[download] Destination: rawvideo.f136\n",
            "\u001b[K[download] 100% of 1.74GiB in 01:00\n",
            "[download] Destination: rawvideo.f140\n",
            "\u001b[K[download] 100% of 146.29MiB in 00:08\n",
            "[ffmpeg] Merging formats into \"rawvideo.mp4\"\n",
            "Deleting original file rawvideo.f136 (pass -k to keep)\n",
            "Deleting original file rawvideo.f140 (pass -k to keep)\n",
            "ffmpeg version 3.4.6-0ubuntu0.18.04.1 Copyright (c) 2000-2019 the FFmpeg developers\n",
            "  built with gcc 7 (Ubuntu 7.3.0-16ubuntu3)\n",
            "  configuration: --prefix=/usr --extra-version=0ubuntu0.18.04.1 --toolchain=hardened --libdir=/usr/lib/x86_64-linux-gnu --incdir=/usr/include/x86_64-linux-gnu --enable-gpl --disable-stripping --enable-avresample --enable-avisynth --enable-gnutls --enable-ladspa --enable-libass --enable-libbluray --enable-libbs2b --enable-libcaca --enable-libcdio --enable-libflite --enable-libfontconfig --enable-libfreetype --enable-libfribidi --enable-libgme --enable-libgsm --enable-libmp3lame --enable-libmysofa --enable-libopenjpeg --enable-libopenmpt --enable-libopus --enable-libpulse --enable-librubberband --enable-librsvg --enable-libshine --enable-libsnappy --enable-libsoxr --enable-libspeex --enable-libssh --enable-libtheora --enable-libtwolame --enable-libvorbis --enable-libvpx --enable-libwavpack --enable-libwebp --enable-libx265 --enable-libxml2 --enable-libxvid --enable-libzmq --enable-libzvbi --enable-omx --enable-openal --enable-opengl --enable-sdl2 --enable-libdc1394 --enable-libdrm --enable-libiec61883 --enable-chromaprint --enable-frei0r --enable-libopencv --enable-libx264 --enable-shared\n",
            "  libavutil      55. 78.100 / 55. 78.100\n",
            "  libavcodec     57.107.100 / 57.107.100\n",
            "  libavformat    57. 83.100 / 57. 83.100\n",
            "  libavdevice    57. 10.100 / 57. 10.100\n",
            "  libavfilter     6.107.100 /  6.107.100\n",
            "  libavresample   3.  7.  0 /  3.  7.  0\n",
            "  libswscale      4.  8.100 /  4.  8.100\n",
            "  libswresample   2.  9.100 /  2.  9.100\n",
            "  libpostproc    54.  7.100 / 54.  7.100\n",
            "Input #0, mov,mp4,m4a,3gp,3g2,mj2, from 'rawvideo.mp4':\n",
            "  Metadata:\n",
            "    major_brand     : isom\n",
            "    minor_version   : 512\n",
            "    compatible_brands: isomiso2avc1mp41\n",
            "    encoder         : Lavf57.83.100\n",
            "  Duration: 02:37:58.04, start: 0.000000, bitrate: 1712 kb/s\n",
            "    Stream #0:0(und): Video: h264 (Main) (avc1 / 0x31637661), yuv420p(tv, bt709), 1280x720 [SAR 1:1 DAR 16:9], 1576 kb/s, 30 fps, 30 tbr, 15360 tbn, 60 tbc (default)\n",
            "    Metadata:\n",
            "      handler_name    : VideoHandler\n",
            "    Stream #0:1(eng): Audio: aac (LC) (mp4a / 0x6134706D), 44100 Hz, stereo, fltp, 127 kb/s (default)\n",
            "    Metadata:\n",
            "      handler_name    : SoundHandler\n",
            "Stream mapping:\n",
            "  Stream #0:0 -> #0:0 (h264 (native) -> h264 (libx264))\n",
            "  Stream #0:1 -> #0:1 (aac (native) -> aac (native))\n",
            "Press [q] to stop, [?] for help\n",
            "\u001b[1;36m[libx264 @ 0x560af5468800] \u001b[0musing SAR=1/1\n",
            "\u001b[1;36m[libx264 @ 0x560af5468800] \u001b[0musing cpu capabilities: MMX2 SSE2Fast SSSE3 SSE4.2 AVX FMA3 BMI2 AVX2\n",
            "\u001b[1;36m[libx264 @ 0x560af5468800] \u001b[0mprofile High, level 3.1\n",
            "\u001b[1;36m[libx264 @ 0x560af5468800] \u001b[0m264 - core 152 r2854 e9a5903 - H.264/MPEG-4 AVC codec - Copyleft 2003-2017 - http://www.videolan.org/x264.html - options: cabac=1 ref=3 deblock=1:0:0 analyse=0x3:0x113 me=hex subme=7 psy=1 psy_rd=1.00:0.00 mixed_ref=1 me_range=16 chroma_me=1 trellis=1 8x8dct=1 cqm=0 deadzone=21,11 fast_pskip=1 chroma_qp_offset=-2 threads=3 lookahead_threads=1 sliced_threads=0 nr=0 decimate=1 interlaced=0 bluray_compat=0 constrained_intra=0 bframes=3 b_pyramid=2 b_adapt=1 b_bias=0 direct=1 weightb=1 open_gop=0 weightp=2 keyint=250 keyint_min=25 scenecut=40 intra_refresh=0 rc_lookahead=40 rc=crf mbtree=1 crf=23.0 qcomp=0.60 qpmin=0 qpmax=69 qpstep=4 ip_ratio=1.40 aq=1:1.00\n",
            "Output #0, mp4, to 'trimmed.mp4':\n",
            "  Metadata:\n",
            "    major_brand     : isom\n",
            "    minor_version   : 512\n",
            "    compatible_brands: isomiso2avc1mp41\n",
            "    encoder         : Lavf57.83.100\n",
            "    Stream #0:0(und): Video: h264 (libx264) (avc1 / 0x31637661), yuv420p, 1280x720 [SAR 1:1 DAR 16:9], q=-1--1, 30 fps, 15360 tbn, 30 tbc (default)\n",
            "    Metadata:\n",
            "      handler_name    : VideoHandler\n",
            "      encoder         : Lavc57.107.100 libx264\n",
            "    Side data:\n",
            "      cpb: bitrate max/min/avg: 0/0/0 buffer size: 0 vbv_delay: -1\n",
            "    Stream #0:1(eng): Audio: aac (LC) (mp4a / 0x6134706D), 44100 Hz, stereo, fltp, 128 kb/s (default)\n",
            "    Metadata:\n",
            "      handler_name    : SoundHandler\n",
            "      encoder         : Lavc57.107.100 aac\n",
            "frame=    0 fps=0.0 q=0.0 Lsize=       0kB time=00:00:00.00 bitrate=N/A speed=   0x    \n",
            "video:0kB audio:0kB subtitle:0kB other streams:0kB global headers:0kB muxing overhead: unknown\n",
            "\u001b[1;36m[aac @ 0x560af5469700] \u001b[0mQavg: -nan\n",
            "Exiting normally, received signal 2.\n",
            "\n",
            "All done!\n"
          ],
          "name": "stdout"
        }
      ]
    },
    {
      "cell_type": "markdown",
      "metadata": {
        "id": "0A_4d1dnkbWl",
        "colab_type": "text"
      },
      "source": [
        "# Ignore the line below (Beta): Slow seek is sometimes really too slow. -archer"
      ]
    },
    {
      "cell_type": "code",
      "metadata": {
        "id": "hdbTLup1sVZx",
        "colab_type": "code",
        "colab": {
          "base_uri": "https://localhost:8080/",
          "height": 170
        },
        "outputId": "39e4ab6b-c852-47ee-e321-0e2d92ff9296"
      },
      "source": [
        "!pip install ipython-autotime\n",
        "\n",
        "%load_ext autotime"
      ],
      "execution_count": null,
      "outputs": [
        {
          "output_type": "stream",
          "text": [
            "Collecting ipython-autotime\n",
            "  Downloading https://files.pythonhosted.org/packages/e6/f9/0626bbdb322e3a078d968e87e3b01341e7890544de891d0cb613641220e6/ipython-autotime-0.1.tar.bz2\n",
            "Building wheels for collected packages: ipython-autotime\n",
            "  Building wheel for ipython-autotime (setup.py) ... \u001b[?25l\u001b[?25hdone\n",
            "  Created wheel for ipython-autotime: filename=ipython_autotime-0.1-cp36-none-any.whl size=1832 sha256=aba46ba6a4a1c94e2507f2e817659170d69f2aa19f3ceddcb8a2df4477be2962\n",
            "  Stored in directory: /root/.cache/pip/wheels/d2/df/81/2db1e54bc91002cec40334629bc39cfa86dff540b304ebcd6e\n",
            "Successfully built ipython-autotime\n",
            "Installing collected packages: ipython-autotime\n",
            "Successfully installed ipython-autotime-0.1\n"
          ],
          "name": "stdout"
        }
      ]
    },
    {
      "cell_type": "code",
      "metadata": {
        "id": "F4StUjaDuYgT",
        "colab_type": "code",
        "colab": {}
      },
      "source": [
        "!cp \"/content/insertdisc.mp4\" \"/content/drive/My Drive\""
      ],
      "execution_count": null,
      "outputs": []
    },
    {
      "cell_type": "code",
      "metadata": {
        "id": "DQPP1JlJUSc0",
        "colab_type": "code",
        "colab": {
          "base_uri": "https://localhost:8080/",
          "height": 122
        },
        "outputId": "cd46f367-7c59-4e5b-b762-3f2e5787ae41"
      },
      "source": [
        "from google.colab import drive\n",
        "drive.mount('/content/drive')"
      ],
      "execution_count": null,
      "outputs": [
        {
          "output_type": "stream",
          "text": [
            "Go to this URL in a browser: https://accounts.google.com/o/oauth2/auth?client_id=947318989803-6bn6qk8qdgf4n4g3pfee6491hc0brc4i.apps.googleusercontent.com&redirect_uri=urn%3aietf%3awg%3aoauth%3a2.0%3aoob&response_type=code&scope=email%20https%3a%2f%2fwww.googleapis.com%2fauth%2fdocs.test%20https%3a%2f%2fwww.googleapis.com%2fauth%2fdrive%20https%3a%2f%2fwww.googleapis.com%2fauth%2fdrive.photos.readonly%20https%3a%2f%2fwww.googleapis.com%2fauth%2fpeopleapi.readonly\n",
            "\n",
            "Enter your authorization code:\n",
            "··········\n",
            "Mounted at /content/drive\n"
          ],
          "name": "stdout"
        }
      ]
    },
    {
      "cell_type": "code",
      "metadata": {
        "id": "4BRpmKOTsaPG",
        "colab_type": "code",
        "colab": {}
      },
      "source": [
        "!ffmpeg -i \"$(ls rawvideo.*)\" -ss \"$START_TIME\" -t 1:59:00 -c:v libx264 -c:a aac trimmed_slow.mp4"
      ],
      "execution_count": null,
      "outputs": []
    },
    {
      "cell_type": "code",
      "metadata": {
        "id": "RaGA2NsdjnkD",
        "colab_type": "code",
        "colab": {
          "base_uri": "https://localhost:8080/",
          "height": 964
        },
        "outputId": "2d01a046-1e30-4313-8525-3bc0954fd8cc"
      },
      "source": [
        "!ffmpeg -ss 01:55:50 -i \"$(ls rawvideo.*)\" -ss \"$START_TIME\" -t 0:03:02 -c:v libx264 -c:a aac trimmed_hybrid.mp4"
      ],
      "execution_count": null,
      "outputs": [
        {
          "output_type": "stream",
          "text": [
            "ffmpeg version 3.4.6-0ubuntu0.18.04.1 Copyright (c) 2000-2019 the FFmpeg developers\n",
            "  built with gcc 7 (Ubuntu 7.3.0-16ubuntu3)\n",
            "  configuration: --prefix=/usr --extra-version=0ubuntu0.18.04.1 --toolchain=hardened --libdir=/usr/lib/x86_64-linux-gnu --incdir=/usr/include/x86_64-linux-gnu --enable-gpl --disable-stripping --enable-avresample --enable-avisynth --enable-gnutls --enable-ladspa --enable-libass --enable-libbluray --enable-libbs2b --enable-libcaca --enable-libcdio --enable-libflite --enable-libfontconfig --enable-libfreetype --enable-libfribidi --enable-libgme --enable-libgsm --enable-libmp3lame --enable-libmysofa --enable-libopenjpeg --enable-libopenmpt --enable-libopus --enable-libpulse --enable-librubberband --enable-librsvg --enable-libshine --enable-libsnappy --enable-libsoxr --enable-libspeex --enable-libssh --enable-libtheora --enable-libtwolame --enable-libvorbis --enable-libvpx --enable-libwavpack --enable-libwebp --enable-libx265 --enable-libxml2 --enable-libxvid --enable-libzmq --enable-libzvbi --enable-omx --enable-openal --enable-opengl --enable-sdl2 --enable-libdc1394 --enable-libdrm --enable-libiec61883 --enable-chromaprint --enable-frei0r --enable-libopencv --enable-libx264 --enable-shared\n",
            "  libavutil      55. 78.100 / 55. 78.100\n",
            "  libavcodec     57.107.100 / 57.107.100\n",
            "  libavformat    57. 83.100 / 57. 83.100\n",
            "  libavdevice    57. 10.100 / 57. 10.100\n",
            "  libavfilter     6.107.100 /  6.107.100\n",
            "  libavresample   3.  7.  0 /  3.  7.  0\n",
            "  libswscale      4.  8.100 /  4.  8.100\n",
            "  libswresample   2.  9.100 /  2.  9.100\n",
            "  libpostproc    54.  7.100 / 54.  7.100\n",
            "Input #0, matroska,webm, from 'rawvideo.mkv':\n",
            "  Metadata:\n",
            "    COMPATIBLE_BRANDS: iso6avc1mp41\n",
            "    MAJOR_BRAND     : dash\n",
            "    MINOR_VERSION   : 0\n",
            "    ENCODER         : Lavf57.83.100\n",
            "  Duration: 06:43:50.76, start: -0.007000, bitrate: 3196 kb/s\n",
            "    Stream #0:0: Video: h264 (High), yuv420p(tv, smpte170m/bt709/bt709, progressive), 1920x1080 [SAR 1:1 DAR 16:9], 30 fps, 30 tbr, 1k tbn, 60 tbc (default)\n",
            "    Metadata:\n",
            "      HANDLER_NAME    : ISO Media file produced by Google Inc.\n",
            "      DURATION        : 06:43:50.733000000\n",
            "    Stream #0:1(eng): Audio: opus, 48000 Hz, stereo, fltp (default)\n",
            "    Metadata:\n",
            "      DURATION        : 06:43:50.761000000\n",
            "Stream mapping:\n",
            "  Stream #0:0 -> #0:0 (h264 (native) -> h264 (libx264))\n",
            "  Stream #0:1 -> #0:1 (opus (native) -> aac (native))\n",
            "Press [q] to stop, [?] for help\n",
            "\u001b[1;36m[libx264 @ 0x55bf5a594800] \u001b[0musing SAR=1/1\n",
            "\u001b[1;36m[libx264 @ 0x55bf5a594800] \u001b[0musing cpu capabilities: MMX2 SSE2Fast SSSE3 SSE4.2 AVX FMA3 BMI2 AVX2 AVX512\n",
            "\u001b[1;36m[libx264 @ 0x55bf5a594800] \u001b[0mprofile High, level 4.0\n",
            "\u001b[1;36m[libx264 @ 0x55bf5a594800] \u001b[0m264 - core 152 r2854 e9a5903 - H.264/MPEG-4 AVC codec - Copyleft 2003-2017 - http://www.videolan.org/x264.html - options: cabac=1 ref=3 deblock=1:0:0 analyse=0x3:0x113 me=hex subme=7 psy=1 psy_rd=1.00:0.00 mixed_ref=1 me_range=16 chroma_me=1 trellis=1 8x8dct=1 cqm=0 deadzone=21,11 fast_pskip=1 chroma_qp_offset=-2 threads=3 lookahead_threads=1 sliced_threads=0 nr=0 decimate=1 interlaced=0 bluray_compat=0 constrained_intra=0 bframes=3 b_pyramid=2 b_adapt=1 b_bias=0 direct=1 weightb=1 open_gop=0 weightp=2 keyint=250 keyint_min=25 scenecut=40 intra_refresh=0 rc_lookahead=40 rc=crf mbtree=1 crf=23.0 qcomp=0.60 qpmin=0 qpmax=69 qpstep=4 ip_ratio=1.40 aq=1:1.00\n",
            "Output #0, mp4, to 'trimmed_hybrid.mp4':\n",
            "  Metadata:\n",
            "    COMPATIBLE_BRANDS: iso6avc1mp41\n",
            "    MAJOR_BRAND     : dash\n",
            "    MINOR_VERSION   : 0\n",
            "    encoder         : Lavf57.83.100\n",
            "    Stream #0:0: Video: h264 (libx264) (avc1 / 0x31637661), yuv420p, 1920x1080 [SAR 1:1 DAR 16:9], q=-1--1, 30 fps, 15360 tbn, 30 tbc (default)\n",
            "    Metadata:\n",
            "      HANDLER_NAME    : ISO Media file produced by Google Inc.\n",
            "      DURATION        : 06:43:50.733000000\n",
            "      encoder         : Lavc57.107.100 libx264\n",
            "    Side data:\n",
            "      cpb: bitrate max/min/avg: 0/0/0 buffer size: 0 vbv_delay: -1\n",
            "    Stream #0:1(eng): Audio: aac (LC) (mp4a / 0x6134706D), 48000 Hz, stereo, fltp, 128 kb/s (default)\n",
            "    Metadata:\n",
            "      DURATION        : 06:43:50.761000000\n",
            "      encoder         : Lavc57.107.100 aac\n"
          ],
          "name": "stdout"
        }
      ]
    },
    {
      "cell_type": "markdown",
      "metadata": {
        "id": "R1EefNpfl0H7",
        "colab_type": "text"
      },
      "source": [
        "# Using GPU instead of CPU to reencode\n",
        "-vsync 0  --- prevents duplication or dropping of frames\n",
        "\n",
        "-hwaccel cuvid  --- keeps the decoded frames in GPU memory\n",
        "\n",
        "-c:v h264_cuvid  --- selects the NVIDIA hardware accelerated H.264 decoder\n",
        "\n",
        "-c:v h264_nvenc  --- selects the NVIDIA hardware accelerated H.264 encoder\n",
        "\n",
        "-b:v 5M  --- sets the output bitrate to 5Mb/s"
      ]
    },
    {
      "cell_type": "code",
      "metadata": {
        "id": "anS8zIPPsouK",
        "colab_type": "code",
        "colab": {
          "base_uri": "https://localhost:8080/",
          "height": 819
        },
        "outputId": "4e9ce0c3-333b-43f0-a716-812b46c4a06d"
      },
      "source": [
        "!ffmpeg -vsync 0 -hwaccel cuvid -c:v h264_cuvid -i rawvideo.mp4 -ss \"1:01:03\" -t \"30\" -c:a copy -c:v h264_nvenc  -strict -2 -filter:v fps=fps=30 -b:v 12M XDDD12mbps_part1.mp4"
      ],
      "execution_count": null,
      "outputs": [
        {
          "output_type": "stream",
          "text": [
            "ffmpeg version 3.4.6-0ubuntu0.18.04.1 Copyright (c) 2000-2019 the FFmpeg developers\n",
            "  built with gcc 7 (Ubuntu 7.3.0-16ubuntu3)\n",
            "  configuration: --prefix=/usr --extra-version=0ubuntu0.18.04.1 --toolchain=hardened --libdir=/usr/lib/x86_64-linux-gnu --incdir=/usr/include/x86_64-linux-gnu --enable-gpl --disable-stripping --enable-avresample --enable-avisynth --enable-gnutls --enable-ladspa --enable-libass --enable-libbluray --enable-libbs2b --enable-libcaca --enable-libcdio --enable-libflite --enable-libfontconfig --enable-libfreetype --enable-libfribidi --enable-libgme --enable-libgsm --enable-libmp3lame --enable-libmysofa --enable-libopenjpeg --enable-libopenmpt --enable-libopus --enable-libpulse --enable-librubberband --enable-librsvg --enable-libshine --enable-libsnappy --enable-libsoxr --enable-libspeex --enable-libssh --enable-libtheora --enable-libtwolame --enable-libvorbis --enable-libvpx --enable-libwavpack --enable-libwebp --enable-libx265 --enable-libxml2 --enable-libxvid --enable-libzmq --enable-libzvbi --enable-omx --enable-openal --enable-opengl --enable-sdl2 --enable-libdc1394 --enable-libdrm --enable-libiec61883 --enable-chromaprint --enable-frei0r --enable-libopencv --enable-libx264 --enable-shared\n",
            "  libavutil      55. 78.100 / 55. 78.100\n",
            "  libavcodec     57.107.100 / 57.107.100\n",
            "  libavformat    57. 83.100 / 57. 83.100\n",
            "  libavdevice    57. 10.100 / 57. 10.100\n",
            "  libavfilter     6.107.100 /  6.107.100\n",
            "  libavresample   3.  7.  0 /  3.  7.  0\n",
            "  libswscale      4.  8.100 /  4.  8.100\n",
            "  libswresample   2.  9.100 /  2.  9.100\n",
            "  libpostproc    54.  7.100 / 54.  7.100\n",
            "Input #0, mov,mp4,m4a,3gp,3g2,mj2, from 'rawvideo.mp4':\n",
            "  Metadata:\n",
            "    major_brand     : isom\n",
            "    minor_version   : 512\n",
            "    compatible_brands: isomiso2avc1mp41\n",
            "    encoder         : Lavf57.83.100\n",
            "  Duration: 02:37:58.04, start: 0.000000, bitrate: 1712 kb/s\n",
            "    Stream #0:0(und): Video: h264 (Main) (avc1 / 0x31637661), yuv420p(tv, bt709), 1280x720 [SAR 1:1 DAR 16:9], 1576 kb/s, 30 fps, 30 tbr, 15360 tbn, 60 tbc (default)\n",
            "    Metadata:\n",
            "      handler_name    : VideoHandler\n",
            "    Stream #0:1(eng): Audio: aac (LC) (mp4a / 0x6134706D), 44100 Hz, stereo, fltp, 127 kb/s (default)\n",
            "    Metadata:\n",
            "      handler_name    : SoundHandler\n",
            "Stream mapping:\n",
            "  Stream #0:0 -> #0:0 (h264 (h264_cuvid) -> h264 (h264_nvenc))\n",
            "  Stream #0:1 -> #0:1 (copy)\n",
            "Press [q] to stop, [?] for help\n",
            "Output #0, mp4, to 'XDDD12mbps_part1.mp4':\n",
            "  Metadata:\n",
            "    major_brand     : isom\n",
            "    minor_version   : 512\n",
            "    compatible_brands: isomiso2avc1mp41\n",
            "    encoder         : Lavf57.83.100\n",
            "    Stream #0:0(und): Video: h264 (h264_nvenc) (Main) (avc1 / 0x31637661), cuda, 1280x720 [SAR 1:1 DAR 16:9], q=-1--1, 12000 kb/s, 30 fps, 15360 tbn, 30 tbc (default)\n",
            "    Metadata:\n",
            "      handler_name    : VideoHandler\n",
            "      encoder         : Lavc57.107.100 h264_nvenc\n",
            "    Side data:\n",
            "      cpb: bitrate max/min/avg: 0/0/12000000 buffer size: 24000000 vbv_delay: -1\n",
            "    Stream #0:1(eng): Audio: aac (LC) (mp4a / 0x6134706D), 44100 Hz, stereo, fltp, 127 kb/s (default)\n",
            "    Metadata:\n",
            "      handler_name    : SoundHandler\n",
            "frame=  900 fps=2.9 q=15.0 Lsize=   19991kB time=00:00:29.99 bitrate=5460.0kbits/s speed=0.0964x    \n",
            "video:19497kB audio:469kB subtitle:0kB other streams:0kB global headers:0kB muxing overhead: 0.130975%\n"
          ],
          "name": "stdout"
        }
      ]
    },
    {
      "cell_type": "code",
      "metadata": {
        "id": "WfAqdxV1FidL",
        "colab_type": "code",
        "colab": {
          "base_uri": "https://localhost:8080/",
          "height": 899
        },
        "outputId": "59048711-c40f-4171-b2ad-a3762f06e31e"
      },
      "source": [
        "!ffmpeg -vsync 0 -hwaccel cuvid -c:v h264_cuvid -ss \"$START_TIME\" -i rawvideo.mkv -t \"$LENGTH\" -c:a copy -c:v h264_nvenc  -strict -2 -filter:v fps=fps=60 -b:v 12M trimmed12mbps_part1_fast.mp4"
      ],
      "execution_count": null,
      "outputs": [
        {
          "output_type": "stream",
          "text": [
            "ffmpeg version 3.4.6-0ubuntu0.18.04.1 Copyright (c) 2000-2019 the FFmpeg developers\n",
            "  built with gcc 7 (Ubuntu 7.3.0-16ubuntu3)\n",
            "  configuration: --prefix=/usr --extra-version=0ubuntu0.18.04.1 --toolchain=hardened --libdir=/usr/lib/x86_64-linux-gnu --incdir=/usr/include/x86_64-linux-gnu --enable-gpl --disable-stripping --enable-avresample --enable-avisynth --enable-gnutls --enable-ladspa --enable-libass --enable-libbluray --enable-libbs2b --enable-libcaca --enable-libcdio --enable-libflite --enable-libfontconfig --enable-libfreetype --enable-libfribidi --enable-libgme --enable-libgsm --enable-libmp3lame --enable-libmysofa --enable-libopenjpeg --enable-libopenmpt --enable-libopus --enable-libpulse --enable-librubberband --enable-librsvg --enable-libshine --enable-libsnappy --enable-libsoxr --enable-libspeex --enable-libssh --enable-libtheora --enable-libtwolame --enable-libvorbis --enable-libvpx --enable-libwavpack --enable-libwebp --enable-libx265 --enable-libxml2 --enable-libxvid --enable-libzmq --enable-libzvbi --enable-omx --enable-openal --enable-opengl --enable-sdl2 --enable-libdc1394 --enable-libdrm --enable-libiec61883 --enable-chromaprint --enable-frei0r --enable-libopencv --enable-libx264 --enable-shared\n",
            "  libavutil      55. 78.100 / 55. 78.100\n",
            "  libavcodec     57.107.100 / 57.107.100\n",
            "  libavformat    57. 83.100 / 57. 83.100\n",
            "  libavdevice    57. 10.100 / 57. 10.100\n",
            "  libavfilter     6.107.100 /  6.107.100\n",
            "  libavresample   3.  7.  0 /  3.  7.  0\n",
            "  libswscale      4.  8.100 /  4.  8.100\n",
            "  libswresample   2.  9.100 /  2.  9.100\n",
            "  libpostproc    54.  7.100 / 54.  7.100\n",
            "Input #0, matroska,webm, from 'rawvideo.mkv':\n",
            "  Metadata:\n",
            "    COMPATIBLE_BRANDS: iso6avc1mp41\n",
            "    MAJOR_BRAND     : dash\n",
            "    MINOR_VERSION   : 0\n",
            "    ENCODER         : Lavf57.83.100\n",
            "  Duration: 03:37:59.50, start: -0.007000, bitrate: 5579 kb/s\n",
            "    Stream #0:0: Video: h264 (High), yuv420p(tv, smpte170m/bt709/bt709, progressive), 1920x1080 [SAR 1:1 DAR 16:9], 60 fps, 60 tbr, 1k tbn, 120 tbc (default)\n",
            "    Metadata:\n",
            "      HANDLER_NAME    : ISO Media file produced by Google Inc.\n",
            "      DURATION        : 03:37:59.467000000\n",
            "    Stream #0:1(eng): Audio: opus, 48000 Hz, stereo, fltp (default)\n",
            "    Metadata:\n",
            "      DURATION        : 03:37:59.501000000\n",
            "Stream mapping:\n",
            "  Stream #0:0 -> #0:0 (h264 (h264_cuvid) -> h264 (h264_nvenc))\n",
            "  Stream #0:1 -> #0:1 (copy)\n",
            "Press [q] to stop, [?] for help\n",
            "\u001b[1;35m[mp4 @ 0x55fd7a374c00] \u001b[0m\u001b[0;33mtrack 1: codec frame size is not set\n",
            "\u001b[0mOutput #0, mp4, to 'trimmed12mbps_part1_fast.mp4':\n",
            "  Metadata:\n",
            "    COMPATIBLE_BRANDS: iso6avc1mp41\n",
            "    MAJOR_BRAND     : dash\n",
            "    MINOR_VERSION   : 0\n",
            "    encoder         : Lavf57.83.100\n",
            "    Stream #0:0: Video: h264 (h264_nvenc) (Main) (avc1 / 0x31637661), cuda, 1920x1080 [SAR 1:1 DAR 16:9], q=-1--1, 12000 kb/s, 60 fps, 15360 tbn, 60 tbc (default)\n",
            "    Metadata:\n",
            "      HANDLER_NAME    : ISO Media file produced by Google Inc.\n",
            "      DURATION        : 03:37:59.467000000\n",
            "      encoder         : Lavc57.107.100 h264_nvenc\n",
            "    Side data:\n",
            "      cpb: bitrate max/min/avg: 0/0/12000000 buffer size: 24000000 vbv_delay: -1\n",
            "    Stream #0:1(eng): Audio: opus (Opus / 0x7375704F), 48000 Hz, stereo, fltp (default)\n",
            "    Metadata:\n",
            "      DURATION        : 03:37:59.501000000\n",
            "frame=26280 fps= 80 q=18.0 Lsize=  647245kB time=00:07:17.98 bitrate=12106.0kbits/s speed=1.33x    \n",
            "video:640698kB audio:6083kB subtitle:0kB other streams:0kB global headers:0kB muxing overhead: 0.071746%\n"
          ],
          "name": "stdout"
        }
      ]
    },
    {
      "cell_type": "code",
      "metadata": {
        "id": "VjyayH8ew8gy",
        "colab_type": "code",
        "colab": {
          "base_uri": "https://localhost:8080/",
          "height": 829
        },
        "outputId": "67d8ed20-9790-4627-984f-bd43250767bc"
      },
      "source": [
        "!ffmpeg -i rawvideo.mkv -ss \"$START_TIME\" -t \"$LENGTH\" -c copy trimmed_part1_1.mkv"
      ],
      "execution_count": null,
      "outputs": [
        {
          "output_type": "stream",
          "text": [
            "ffmpeg version 3.4.6-0ubuntu0.18.04.1 Copyright (c) 2000-2019 the FFmpeg developers\n",
            "  built with gcc 7 (Ubuntu 7.3.0-16ubuntu3)\n",
            "  configuration: --prefix=/usr --extra-version=0ubuntu0.18.04.1 --toolchain=hardened --libdir=/usr/lib/x86_64-linux-gnu --incdir=/usr/include/x86_64-linux-gnu --enable-gpl --disable-stripping --enable-avresample --enable-avisynth --enable-gnutls --enable-ladspa --enable-libass --enable-libbluray --enable-libbs2b --enable-libcaca --enable-libcdio --enable-libflite --enable-libfontconfig --enable-libfreetype --enable-libfribidi --enable-libgme --enable-libgsm --enable-libmp3lame --enable-libmysofa --enable-libopenjpeg --enable-libopenmpt --enable-libopus --enable-libpulse --enable-librubberband --enable-librsvg --enable-libshine --enable-libsnappy --enable-libsoxr --enable-libspeex --enable-libssh --enable-libtheora --enable-libtwolame --enable-libvorbis --enable-libvpx --enable-libwavpack --enable-libwebp --enable-libx265 --enable-libxml2 --enable-libxvid --enable-libzmq --enable-libzvbi --enable-omx --enable-openal --enable-opengl --enable-sdl2 --enable-libdc1394 --enable-libdrm --enable-libiec61883 --enable-chromaprint --enable-frei0r --enable-libopencv --enable-libx264 --enable-shared\n",
            "  libavutil      55. 78.100 / 55. 78.100\n",
            "  libavcodec     57.107.100 / 57.107.100\n",
            "  libavformat    57. 83.100 / 57. 83.100\n",
            "  libavdevice    57. 10.100 / 57. 10.100\n",
            "  libavfilter     6.107.100 /  6.107.100\n",
            "  libavresample   3.  7.  0 /  3.  7.  0\n",
            "  libswscale      4.  8.100 /  4.  8.100\n",
            "  libswresample   2.  9.100 /  2.  9.100\n",
            "  libpostproc    54.  7.100 / 54.  7.100\n",
            "Input #0, matroska,webm, from 'rawvideo.mkv':\n",
            "  Metadata:\n",
            "    COMPATIBLE_BRANDS: iso6avc1mp41\n",
            "    MAJOR_BRAND     : dash\n",
            "    MINOR_VERSION   : 0\n",
            "    ENCODER         : Lavf57.83.100\n",
            "  Duration: 03:37:59.50, start: -0.007000, bitrate: 5579 kb/s\n",
            "    Stream #0:0: Video: h264 (High), yuv420p(tv, smpte170m/bt709/bt709, progressive), 1920x1080 [SAR 1:1 DAR 16:9], 60 fps, 60 tbr, 1k tbn, 120 tbc (default)\n",
            "    Metadata:\n",
            "      HANDLER_NAME    : ISO Media file produced by Google Inc.\n",
            "      DURATION        : 03:37:59.467000000\n",
            "    Stream #0:1(eng): Audio: opus, 48000 Hz, stereo, fltp (default)\n",
            "    Metadata:\n",
            "      DURATION        : 03:37:59.501000000\n",
            "Output #0, matroska, to 'trimmed_part1_1.mkv':\n",
            "  Metadata:\n",
            "    COMPATIBLE_BRANDS: iso6avc1mp41\n",
            "    MAJOR_BRAND     : dash\n",
            "    MINOR_VERSION   : 0\n",
            "    encoder         : Lavf57.83.100\n",
            "    Stream #0:0: Video: h264 (High) (H264 / 0x34363248), yuv420p(tv, smpte170m/bt709/bt709, progressive), 1920x1080 [SAR 1:1 DAR 16:9], q=2-31, 60 fps, 60 tbr, 1k tbn, 1k tbc (default)\n",
            "    Metadata:\n",
            "      HANDLER_NAME    : ISO Media file produced by Google Inc.\n",
            "      DURATION        : 03:37:59.467000000\n",
            "    Stream #0:1(eng): Audio: opus ([255][255][255][255] / 0xFFFFFFFF), 48000 Hz, stereo, fltp (default)\n",
            "    Metadata:\n",
            "      DURATION        : 03:37:59.501000000\n",
            "Stream mapping:\n",
            "  Stream #0:0 -> #0:0 (copy)\n",
            "  Stream #0:1 -> #0:1 (copy)\n",
            "Press [q] to stop, [?] for help\n",
            "frame=26090 fps=17676 q=-1.0 Lsize=  291747kB time=00:07:17.99 bitrate=5456.7kbits/s speed= 297x    \n",
            "video:285346kB audio:6061kB subtitle:0kB other streams:0kB global headers:0kB muxing overhead: 0.116469%\n"
          ],
          "name": "stdout"
        }
      ]
    }
  ]
}